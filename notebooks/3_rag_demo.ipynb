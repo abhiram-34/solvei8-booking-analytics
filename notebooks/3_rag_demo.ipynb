{
 "cells": [
  {
   "cell_type": "markdown",
   "id": "28be2e83",
   "metadata": {},
   "source": [
    "# Retrieval - Augmented Question Answering"
   ]
  },
  {
   "cell_type": "code",
   "execution_count": 4,
   "id": "b2a51b17",
   "metadata": {},
   "outputs": [
    {
     "name": "stdout",
     "output_type": "stream",
     "text": [
      "Collecting sentence-transformers\n",
      "  Using cached sentence_transformers-4.0.2-py3-none-any.whl.metadata (13 kB)\n",
      "Requirement already satisfied: faiss-cpu in d:\\main-project\\env\\lib\\site-packages (1.10.0)\n",
      "Collecting transformers\n",
      "  Using cached transformers-4.51.2-py3-none-any.whl.metadata (38 kB)\n",
      "Requirement already satisfied: tqdm in d:\\main-project\\env\\lib\\site-packages (from sentence-transformers) (4.67.1)\n",
      "Requirement already satisfied: torch>=1.11.0 in d:\\main-project\\env\\lib\\site-packages (from sentence-transformers) (2.6.0)\n",
      "Requirement already satisfied: scikit-learn in d:\\main-project\\env\\lib\\site-packages (from sentence-transformers) (1.6.1)\n",
      "Requirement already satisfied: scipy in d:\\main-project\\env\\lib\\site-packages (from sentence-transformers) (1.15.1)\n",
      "Collecting huggingface-hub>=0.20.0 (from sentence-transformers)\n",
      "  Using cached huggingface_hub-0.30.2-py3-none-any.whl.metadata (13 kB)\n",
      "Requirement already satisfied: Pillow in d:\\main-project\\env\\lib\\site-packages (from sentence-transformers) (10.3.0)\n",
      "Requirement already satisfied: typing_extensions>=4.5.0 in d:\\main-project\\env\\lib\\site-packages (from sentence-transformers) (4.12.2)\n",
      "Requirement already satisfied: numpy<3.0,>=1.25.0 in d:\\main-project\\env\\lib\\site-packages (from faiss-cpu) (1.26.4)\n",
      "Requirement already satisfied: packaging in d:\\main-project\\env\\lib\\site-packages (from faiss-cpu) (24.2)\n",
      "Requirement already satisfied: filelock in d:\\main-project\\env\\lib\\site-packages (from transformers) (3.18.0)\n",
      "Requirement already satisfied: pyyaml>=5.1 in d:\\main-project\\env\\lib\\site-packages (from transformers) (6.0.2)\n",
      "Requirement already satisfied: regex!=2019.12.17 in d:\\main-project\\env\\lib\\site-packages (from transformers) (2024.11.6)\n",
      "Requirement already satisfied: requests in d:\\main-project\\env\\lib\\site-packages (from transformers) (2.32.3)\n",
      "Collecting tokenizers<0.22,>=0.21 (from transformers)\n",
      "  Using cached tokenizers-0.21.1-cp39-abi3-win_amd64.whl.metadata (6.9 kB)\n",
      "Requirement already satisfied: safetensors>=0.4.3 in d:\\main-project\\env\\lib\\site-packages (from transformers) (0.5.3)\n",
      "Requirement already satisfied: fsspec>=2023.5.0 in d:\\main-project\\env\\lib\\site-packages (from huggingface-hub>=0.20.0->sentence-transformers) (2025.3.2)\n",
      "Requirement already satisfied: networkx in d:\\main-project\\env\\lib\\site-packages (from torch>=1.11.0->sentence-transformers) (3.4.2)\n",
      "Requirement already satisfied: jinja2 in d:\\main-project\\env\\lib\\site-packages (from torch>=1.11.0->sentence-transformers) (3.1.5)\n",
      "Requirement already satisfied: setuptools in d:\\main-project\\env\\lib\\site-packages (from torch>=1.11.0->sentence-transformers) (72.1.0)\n",
      "Requirement already satisfied: sympy==1.13.1 in d:\\main-project\\env\\lib\\site-packages (from torch>=1.11.0->sentence-transformers) (1.13.1)\n",
      "Requirement already satisfied: mpmath<1.4,>=1.1.0 in d:\\main-project\\env\\lib\\site-packages (from sympy==1.13.1->torch>=1.11.0->sentence-transformers) (1.3.0)\n",
      "Requirement already satisfied: colorama in d:\\main-project\\env\\lib\\site-packages (from tqdm->sentence-transformers) (0.4.6)\n",
      "Requirement already satisfied: charset-normalizer<4,>=2 in d:\\main-project\\env\\lib\\site-packages (from requests->transformers) (3.3.2)\n",
      "Requirement already satisfied: idna<4,>=2.5 in d:\\main-project\\env\\lib\\site-packages (from requests->transformers) (3.7)\n",
      "Requirement already satisfied: urllib3<3,>=1.21.1 in d:\\main-project\\env\\lib\\site-packages (from requests->transformers) (2.3.0)\n",
      "Requirement already satisfied: certifi>=2017.4.17 in d:\\main-project\\env\\lib\\site-packages (from requests->transformers) (2025.1.31)\n",
      "Requirement already satisfied: joblib>=1.2.0 in d:\\main-project\\env\\lib\\site-packages (from scikit-learn->sentence-transformers) (1.4.2)\n",
      "Requirement already satisfied: threadpoolctl>=3.1.0 in d:\\main-project\\env\\lib\\site-packages (from scikit-learn->sentence-transformers) (3.5.0)\n",
      "Requirement already satisfied: MarkupSafe>=2.0 in d:\\main-project\\env\\lib\\site-packages (from jinja2->torch>=1.11.0->sentence-transformers) (3.0.2)\n",
      "Using cached sentence_transformers-4.0.2-py3-none-any.whl (340 kB)\n",
      "Using cached transformers-4.51.2-py3-none-any.whl (10.4 MB)\n",
      "Using cached huggingface_hub-0.30.2-py3-none-any.whl (481 kB)\n",
      "Using cached tokenizers-0.21.1-cp39-abi3-win_amd64.whl (2.4 MB)\n",
      "Installing collected packages: huggingface-hub, tokenizers, transformers, sentence-transformers\n",
      "Successfully installed huggingface-hub-0.30.2 sentence-transformers-4.0.2 tokenizers-0.21.1 transformers-4.51.2\n",
      "Note: you may need to restart the kernel to use updated packages.\n"
     ]
    }
   ],
   "source": [
    "%pip install sentence-transformers faiss-cpu transformers\n"
   ]
  },
  {
   "cell_type": "markdown",
   "id": "5547bef3",
   "metadata": {},
   "source": []
  },
  {
   "cell_type": "code",
   "execution_count": 1,
   "id": "83a6d926",
   "metadata": {},
   "outputs": [],
   "source": [
    "import pandas as pd\n",
    "from sentence_transformers import SentenceTransformer\n",
    "import faiss\n",
    "import numpy as np\n",
    "from transformers import pipeline\n"
   ]
  },
  {
   "cell_type": "code",
   "execution_count": 2,
   "id": "42424eb3",
   "metadata": {},
   "outputs": [],
   "source": [
    "# Load the dataset\n",
    "df = pd.read_csv(\"cleaned_hotel_booking.csv\")\n",
    "\n",
    "columns_to_use = [\"hotel\",\"is_canceled\", \"lead_time\", \"country\",\"adr\",\"total_nights\"]\n",
    "df = df[columns_to_use]\n",
    "data_txt = df.apply(lambda row: f\"\"\"Hotel: {row.hotel},\n",
    "    Canceled: {row.is_canceled},\n",
    "    Lead Time: {row.lead_time},\n",
    "    ADR: {row.adr},\n",
    "    Nights: {row.total_nights}\"\"\",axis=1).tolist()"
   ]
  },
  {
   "cell_type": "code",
   "execution_count": 3,
   "id": "e144abf1",
   "metadata": {},
   "outputs": [
    {
     "data": {
      "application/vnd.jupyter.widget-view+json": {
       "model_id": "74dd7e42fc6244788f535c105ce42840",
       "version_major": 2,
       "version_minor": 0
      },
      "text/plain": [
       "Batches:   0%|          | 0/3731 [00:00<?, ?it/s]"
      ]
     },
     "metadata": {},
     "output_type": "display_data"
    }
   ],
   "source": [
    "# Generating embeddings \n",
    "\n",
    "model = SentenceTransformer('all-MiniLM-L6-v2')\n",
    "embeddings = model.encode(data_txt,show_progress_bar=True)\n",
    "embeddings = np.array(embeddings).astype('float32')"
   ]
  },
  {
   "cell_type": "code",
   "execution_count": 13,
   "id": "67085eae",
   "metadata": {},
   "outputs": [
    {
     "name": "stdout",
     "output_type": "stream",
     "text": [
      "Requirement already satisfied: huggingface_hub[hf_xet] in d:\\main-project\\env\\lib\\site-packages (0.30.2)\n",
      "Requirement already satisfied: filelock in d:\\main-project\\env\\lib\\site-packages (from huggingface_hub[hf_xet]) (3.18.0)\n",
      "Requirement already satisfied: fsspec>=2023.5.0 in d:\\main-project\\env\\lib\\site-packages (from huggingface_hub[hf_xet]) (2025.3.2)\n",
      "Requirement already satisfied: packaging>=20.9 in d:\\main-project\\env\\lib\\site-packages (from huggingface_hub[hf_xet]) (24.2)\n",
      "Requirement already satisfied: pyyaml>=5.1 in d:\\main-project\\env\\lib\\site-packages (from huggingface_hub[hf_xet]) (6.0.2)\n",
      "Requirement already satisfied: requests in d:\\main-project\\env\\lib\\site-packages (from huggingface_hub[hf_xet]) (2.32.3)\n",
      "Requirement already satisfied: tqdm>=4.42.1 in d:\\main-project\\env\\lib\\site-packages (from huggingface_hub[hf_xet]) (4.67.1)\n",
      "Requirement already satisfied: typing-extensions>=3.7.4.3 in d:\\main-project\\env\\lib\\site-packages (from huggingface_hub[hf_xet]) (4.12.2)\n",
      "Collecting hf-xet>=0.1.4 (from huggingface_hub[hf_xet])\n",
      "  Downloading hf_xet-1.0.3-cp37-abi3-win_amd64.whl.metadata (498 bytes)\n",
      "Requirement already satisfied: colorama in d:\\main-project\\env\\lib\\site-packages (from tqdm>=4.42.1->huggingface_hub[hf_xet]) (0.4.6)\n",
      "Requirement already satisfied: charset-normalizer<4,>=2 in d:\\main-project\\env\\lib\\site-packages (from requests->huggingface_hub[hf_xet]) (3.3.2)\n",
      "Requirement already satisfied: idna<4,>=2.5 in d:\\main-project\\env\\lib\\site-packages (from requests->huggingface_hub[hf_xet]) (3.7)\n",
      "Requirement already satisfied: urllib3<3,>=1.21.1 in d:\\main-project\\env\\lib\\site-packages (from requests->huggingface_hub[hf_xet]) (2.3.0)\n",
      "Requirement already satisfied: certifi>=2017.4.17 in d:\\main-project\\env\\lib\\site-packages (from requests->huggingface_hub[hf_xet]) (2025.1.31)\n",
      "Downloading hf_xet-1.0.3-cp37-abi3-win_amd64.whl (4.1 MB)\n",
      "   ---------------------------------------- 0.0/4.1 MB ? eta -:--:--\n",
      "   ----- ---------------------------------- 0.5/4.1 MB 3.4 MB/s eta 0:00:02\n",
      "   ---------- ----------------------------- 1.0/4.1 MB 2.8 MB/s eta 0:00:02\n",
      "   ----------------- ---------------------- 1.8/4.1 MB 3.1 MB/s eta 0:00:01\n",
      "   ------------------------- -------------- 2.6/4.1 MB 3.1 MB/s eta 0:00:01\n",
      "   --------------------------------- ------ 3.4/4.1 MB 3.2 MB/s eta 0:00:01\n",
      "   -------------------------------------- - 3.9/4.1 MB 3.3 MB/s eta 0:00:01\n",
      "   -------------------------------------- - 3.9/4.1 MB 3.3 MB/s eta 0:00:01\n",
      "   ---------------------------------------- 4.1/4.1 MB 2.7 MB/s eta 0:00:00\n",
      "Installing collected packages: hf-xet\n",
      "Successfully installed hf-xet-1.0.3\n",
      "Note: you may need to restart the kernel to use updated packages.\n"
     ]
    }
   ],
   "source": [
    "%pip install huggingface_hub[hf_xet]"
   ]
  },
  {
   "cell_type": "code",
   "execution_count": 4,
   "id": "49685205",
   "metadata": {},
   "outputs": [],
   "source": [
    "# Creating FAISS Index\n",
    "index = faiss.IndexFlatL2(embeddings.shape[1])\n",
    "index.add(embeddings)\n",
    "faiss.write_index(index, \"faiss_index.idx\")\n",
    "pd.Series(data_txt).to_csv(\"text_chunks.csv\", index=False)"
   ]
  },
  {
   "cell_type": "code",
   "execution_count": 6,
   "id": "dbc56afc",
   "metadata": {},
   "outputs": [],
   "source": [
    "#Retrieval and Answering\n",
    "index = faiss.read_index(\"faiss_index.idx\")\n",
    "text_chunks = pd.read_csv(\"text_chunks.csv\", header=None)[0].tolist()\n",
    "\n",
    "query = \"what is the average price of a hotel booking in Portugal?\"\n",
    "query_vec = model.encode([query]).astype('float32')\n",
    "_, indices = index.search(query_vec, k=5)\n",
    "retrieved = [text_chunks[i] for i in indices[0]]\n",
    "\n",
    "context = \"\\n\".join(retrieved)\n",
    "prompt = f\"Context:\\n{context}\\n\\nQuestion: {query}\\nAnswer\""
   ]
  },
  {
   "cell_type": "code",
   "execution_count": 7,
   "id": "dea811d5",
   "metadata": {},
   "outputs": [
    {
     "data": {
      "application/vnd.jupyter.widget-view+json": {
       "model_id": "7d09c156613649ceb6c12e4689cb221f",
       "version_major": 2,
       "version_minor": 0
      },
      "text/plain": [
       "config.json:   0%|          | 0.00/1.05k [00:00<?, ?B/s]"
      ]
     },
     "metadata": {},
     "output_type": "display_data"
    },
    {
     "name": "stderr",
     "output_type": "stream",
     "text": [
      "d:\\main-project\\env\\Lib\\site-packages\\huggingface_hub\\file_download.py:144: UserWarning: `huggingface_hub` cache-system uses symlinks by default to efficiently store duplicated files but your machine does not support them in C:\\Users\\ABHIRAM R\\.cache\\huggingface\\hub\\models--tiiuae--falcon-rw-1b. Caching files will still work but in a degraded version that might require more space on your disk. This warning can be disabled by setting the `HF_HUB_DISABLE_SYMLINKS_WARNING` environment variable. For more details, see https://huggingface.co/docs/huggingface_hub/how-to-cache#limitations.\n",
      "To support symlinks on Windows, you either need to activate Developer Mode or to run Python as an administrator. In order to activate developer mode, see this article: https://docs.microsoft.com/en-us/windows/apps/get-started/enable-your-device-for-development\n",
      "  warnings.warn(message)\n"
     ]
    },
    {
     "data": {
      "application/vnd.jupyter.widget-view+json": {
       "model_id": "f092cf7d5d204731a77d31d54f6ef1cd",
       "version_major": 2,
       "version_minor": 0
      },
      "text/plain": [
       "pytorch_model.bin:   0%|          | 0.00/2.62G [00:00<?, ?B/s]"
      ]
     },
     "metadata": {},
     "output_type": "display_data"
    },
    {
     "data": {
      "application/vnd.jupyter.widget-view+json": {
       "model_id": "c6607646947e49e083cab694f887aefd",
       "version_major": 2,
       "version_minor": 0
      },
      "text/plain": [
       "generation_config.json:   0%|          | 0.00/115 [00:00<?, ?B/s]"
      ]
     },
     "metadata": {},
     "output_type": "display_data"
    },
    {
     "data": {
      "application/vnd.jupyter.widget-view+json": {
       "model_id": "72d571de3c61402f8e56fa8ec44aa28f",
       "version_major": 2,
       "version_minor": 0
      },
      "text/plain": [
       "tokenizer_config.json:   0%|          | 0.00/234 [00:00<?, ?B/s]"
      ]
     },
     "metadata": {},
     "output_type": "display_data"
    },
    {
     "data": {
      "application/vnd.jupyter.widget-view+json": {
       "model_id": "1ede95cdc94c43118eda095bdd673ded",
       "version_major": 2,
       "version_minor": 0
      },
      "text/plain": [
       "vocab.json:   0%|          | 0.00/798k [00:00<?, ?B/s]"
      ]
     },
     "metadata": {},
     "output_type": "display_data"
    },
    {
     "data": {
      "application/vnd.jupyter.widget-view+json": {
       "model_id": "44a0cd0b53a641f497c079014274426c",
       "version_major": 2,
       "version_minor": 0
      },
      "text/plain": [
       "merges.txt:   0%|          | 0.00/456k [00:00<?, ?B/s]"
      ]
     },
     "metadata": {},
     "output_type": "display_data"
    },
    {
     "data": {
      "application/vnd.jupyter.widget-view+json": {
       "model_id": "18ef65f075f24c258f623c23d0694c13",
       "version_major": 2,
       "version_minor": 0
      },
      "text/plain": [
       "tokenizer.json:   0%|          | 0.00/2.11M [00:00<?, ?B/s]"
      ]
     },
     "metadata": {},
     "output_type": "display_data"
    },
    {
     "data": {
      "application/vnd.jupyter.widget-view+json": {
       "model_id": "232b79860fa64a04bcb20f0620f3a513",
       "version_major": 2,
       "version_minor": 0
      },
      "text/plain": [
       "special_tokens_map.json:   0%|          | 0.00/99.0 [00:00<?, ?B/s]"
      ]
     },
     "metadata": {},
     "output_type": "display_data"
    },
    {
     "name": "stderr",
     "output_type": "stream",
     "text": [
      "Device set to use cpu\n",
      "Setting `pad_token_id` to `eos_token_id`:2 for open-end generation.\n"
     ]
    },
    {
     "name": "stdout",
     "output_type": "stream",
     "text": [
      "Context:\n",
      "Hotel: resort hotel,\n",
      "    Canceled: 0,\n",
      "    Lead Time: 163,\n",
      "    ADR: 215.0,\n",
      "    Nights: 4\n",
      "Hotel: resort hotel,\n",
      "    Canceled: 0,\n",
      "    Lead Time: 301,\n",
      "    ADR: 71.25,\n",
      "    Nights: 13\n",
      "Hotel: resort hotel,\n",
      "    Canceled: 1,\n",
      "    Lead Time: 28,\n",
      "    ADR: 219.0,\n",
      "    Nights: 3\n",
      "Hotel: resort hotel,\n",
      "    Canceled: 1,\n",
      "    Lead Time: 149,\n",
      "    ADR: 199.0,\n",
      "    Nights: 7\n",
      "Hotel: resort hotel,\n",
      "    Canceled: 0,\n",
      "    Lead Time: 14,\n",
      "    ADR: 157.82,\n",
      "    Nights: 2\n",
      "\n",
      "Question: what is the average price of a hotel booking in Portugal?\n",
      "Answer:\n",
      "The average price of a hotel booking in Portugal is €1,842.\n",
      "Question: what is the average price of a hotel booking in Portugal?\n",
      "Answer:\n",
      "The average price of a hotel booking in Portugal is €1,\n"
     ]
    }
   ],
   "source": [
    "#Using Pipeline\n",
    "qa_model = pipeline(\n",
    "    \"text-generation\",\n",
    "    model=\"tiiuae/falcon-rw-1b\",\n",
    "    tokenizer=\"tiiuae/falcon-rw-1b\",\n",
    "    max_new_tokens=50\n",
    ")\n",
    "\n",
    "response = qa_model(prompt)[0]['generated_text']\n",
    "print(response)\n"
   ]
  },
  {
   "cell_type": "code",
   "execution_count": null,
   "id": "a9efcd29",
   "metadata": {},
   "outputs": [],
   "source": []
  }
 ],
 "metadata": {
  "kernelspec": {
   "display_name": "Python 3",
   "language": "python",
   "name": "python3"
  },
  "language_info": {
   "codemirror_mode": {
    "name": "ipython",
    "version": 3
   },
   "file_extension": ".py",
   "mimetype": "text/x-python",
   "name": "python",
   "nbconvert_exporter": "python",
   "pygments_lexer": "ipython3",
   "version": "3.12.3"
  }
 },
 "nbformat": 4,
 "nbformat_minor": 5
}
